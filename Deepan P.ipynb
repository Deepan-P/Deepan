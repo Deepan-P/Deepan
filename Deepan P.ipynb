{
  "nbformat": 4,
  "nbformat_minor": 0,
  "metadata": {
    "colab": {
      "provenance": [],
      "authorship_tag": "ABX9TyM4zGyJAbty9viWXslNSoGJ",
      "include_colab_link": true
    },
    "kernelspec": {
      "name": "python3",
      "display_name": "Python 3"
    },
    "language_info": {
      "name": "python"
    }
  },
  "cells": [
    {
      "cell_type": "markdown",
      "metadata": {
        "id": "view-in-github",
        "colab_type": "text"
      },
      "source": [
        "<a href=\"https://colab.research.google.com/github/Deepan-P/Deepan/blob/main/Deepan%20P.ipynb\" target=\"_parent\"><img src=\"https://colab.research.google.com/assets/colab-badge.svg\" alt=\"Open In Colab\"/></a>"
      ]
    },
    {
      "cell_type": "code",
      "execution_count": 1,
      "metadata": {
        "colab": {
          "base_uri": "https://localhost:8080/"
        },
        "id": "_nT-ypBt_-_K",
        "outputId": "5f75d3db-5a37-49c3-92eb-b2f2464013bd"
      },
      "outputs": [
        {
          "output_type": "stream",
          "name": "stdout",
          "text": [
            "enter the usernameDeepan\n",
            "enter the passwordDeepan@123\n",
            "login successful\n"
          ]
        }
      ],
      "source": [
        "username = input (\"enter the username\")\n",
        "password = input (\"enter the password\")\n",
        "if (username ==\"Deepan\"and password == \"Deepan@123\"):\n",
        "  print(\"login successful\")\n",
        "else :\n",
        "    print (\"the credential is wrong\")"
      ]
    },
    {
      "cell_type": "code",
      "source": [
        "oddnum = [i for i in range (100)if i % 3 == 0 ]\n",
        "print(oddnum)"
      ],
      "metadata": {
        "colab": {
          "base_uri": "https://localhost:8080/"
        },
        "id": "murpsqLgAVTL",
        "outputId": "85c2caa7-0de7-4e9b-97a0-c649a978171a"
      },
      "execution_count": 2,
      "outputs": [
        {
          "output_type": "stream",
          "name": "stdout",
          "text": [
            "[0, 3, 6, 9, 12, 15, 18, 21, 24, 27, 30, 33, 36, 39, 42, 45, 48, 51, 54, 57, 60, 63, 66, 69, 72, 75, 78, 81, 84, 87, 90, 93, 96, 99]\n"
          ]
        }
      ]
    },
    {
      "cell_type": "code",
      "source": [
        "evennum = [i for i in range (100)if i % 2 == 0 ]\n",
        "print(evennum)"
      ],
      "metadata": {
        "colab": {
          "base_uri": "https://localhost:8080/"
        },
        "id": "CaQ0yczzAZcL",
        "outputId": "6b79510e-3f9b-4198-b8a5-1738a8572bf7"
      },
      "execution_count": 3,
      "outputs": [
        {
          "output_type": "stream",
          "name": "stdout",
          "text": [
            "[0, 2, 4, 6, 8, 10, 12, 14, 16, 18, 20, 22, 24, 26, 28, 30, 32, 34, 36, 38, 40, 42, 44, 46, 48, 50, 52, 54, 56, 58, 60, 62, 64, 66, 68, 70, 72, 74, 76, 78, 80, 82, 84, 86, 88, 90, 92, 94, 96, 98]\n"
          ]
        }
      ]
    },
    {
      "cell_type": "code",
      "source": [
        "fruits= ['apple','orange','lemon','grape', 'Strawberrie','Blackberrie']\n",
        "for fruit in fruits :\n",
        "    print (fruit)"
      ],
      "metadata": {
        "colab": {
          "base_uri": "https://localhost:8080/"
        },
        "id": "Y1kEM1ccAccj",
        "outputId": "74ad37d6-881f-41a5-b0e3-1a002e256721"
      },
      "execution_count": 4,
      "outputs": [
        {
          "output_type": "stream",
          "name": "stdout",
          "text": [
            "apple\n",
            "orange\n",
            "lemon\n",
            "grape\n",
            "Strawberrie\n",
            "Blackberrie\n"
          ]
        }
      ]
    }
  ]
}